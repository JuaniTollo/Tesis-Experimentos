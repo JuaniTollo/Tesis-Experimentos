{
 "cells": [
  {
   "cell_type": "code",
   "execution_count": 86,
   "metadata": {},
   "outputs": [],
   "source": [
    "import pandas as pd\n",
    "import numpy as np"
   ]
  },
  {
   "cell_type": "code",
   "execution_count": 87,
   "metadata": {},
   "outputs": [
    {
     "name": "stderr",
     "output_type": "stream",
     "text": [
      "Special tokens have been added in the vocabulary, make sure the associated word embeddings are fine-tuned or trained.\n"
     ]
    }
   ],
   "source": [
    "from transformers import AutoTokenizer\n",
    "\n",
    "tokenizer = AutoTokenizer.from_pretrained(\"tokenizer\")"
   ]
  },
  {
   "cell_type": "code",
   "execution_count": 88,
   "metadata": {},
   "outputs": [
    {
     "data": {
      "text/plain": [
       "(2, 51200)"
      ]
     },
     "execution_count": 88,
     "metadata": {},
     "output_type": "execute_result"
    }
   ],
   "source": [
    "logits = np.load(\"test_logits_global.npy\")\n",
    "logits.shape"
   ]
  },
  {
   "cell_type": "code",
   "execution_count": 89,
   "metadata": {},
   "outputs": [],
   "source": [
    "targets = np.load(\"test_targets_global.npy\")\n"
   ]
  },
  {
   "cell_type": "code",
   "execution_count": 90,
   "metadata": {},
   "outputs": [],
   "source": [
    "targets = np.load(\"test_targets_global.npy\")\n"
   ]
  },
  {
   "cell_type": "code",
   "execution_count": 91,
   "metadata": {},
   "outputs": [
    {
     "name": "stdout",
     "output_type": "stream",
     "text": [
      "(2, 51200)\n"
     ]
    }
   ],
   "source": [
    "print(logits.shape)\n"
   ]
  },
  {
   "cell_type": "code",
   "execution_count": 92,
   "metadata": {},
   "outputs": [
    {
     "data": {
      "text/plain": [
       "198"
      ]
     },
     "execution_count": 92,
     "metadata": {},
     "output_type": "execute_result"
    }
   ],
   "source": [
    "\n",
    "# Calcular las predicciones a partir de las logits tomando el índice de la máxima logit\n",
    "predictions = np.argmax(logits[0])\n",
    "predictions\n"
   ]
  },
  {
   "cell_type": "code",
   "execution_count": 93,
   "metadata": {},
   "outputs": [
    {
     "ename": "TypeError",
     "evalue": "'numpy.int64' object is not callable",
     "output_type": "error",
     "traceback": [
      "\u001b[0;31m---------------------------------------------------------------------------\u001b[0m",
      "\u001b[0;31mTypeError\u001b[0m                                 Traceback (most recent call last)",
      "Cell \u001b[0;32mIn[93], line 2\u001b[0m\n\u001b[1;32m      1\u001b[0m \u001b[38;5;66;03m# Calcular las predicciones a partir de las logits tomando el índice de la máxima logit\u001b[39;00m\n\u001b[0;32m----> 2\u001b[0m \u001b[43mpredictions\u001b[49m\u001b[43m \u001b[49m\u001b[43m(\u001b[49m\u001b[43mlogits\u001b[49m\u001b[43m[\u001b[49m\u001b[38;5;241;43m0\u001b[39;49m\u001b[43m]\u001b[49m\u001b[43m)\u001b[49m  \u001b[38;5;66;03m# should be a scalar\u001b[39;00m\n\u001b[1;32m      4\u001b[0m \u001b[38;5;66;03m# Convert scalar prediction to list for decoding\u001b[39;00m\n\u001b[1;32m      5\u001b[0m decoded_prediction \u001b[38;5;241m=\u001b[39m tokenizer\u001b[38;5;241m.\u001b[39mdecode([predictions])\n",
      "\u001b[0;31mTypeError\u001b[0m: 'numpy.int64' object is not callable"
     ]
    }
   ],
   "source": [
    "# Calcular las predicciones a partir de las logits tomando el índice de la máxima logit\n",
    "predictions (logits[0])  # should be a scalar\n",
    "\n",
    "# Convert scalar prediction to list for decoding\n",
    "decoded_prediction = tokenizer.decode([predictions])\n",
    "\n",
    "print(\"Most probable token decoded:\", decoded_prediction)\n",
    "decoded_prediction"
   ]
  },
  {
   "cell_type": "code",
   "execution_count": 94,
   "metadata": {},
   "outputs": [
    {
     "name": "stdout",
     "output_type": "stream",
     "text": [
      "Most probable token decoded: \n",
      "\n"
     ]
    }
   ],
   "source": [
    "import numpy as np\n",
    "\n",
    "# Assuming logits is a numpy array where logits[0] contains the logits for the first example in the batch\n",
    "predictions = np.argmax(logits[0])  # Finds the index of the maximum logit\n",
    "\n",
    "# Decode the predicted index to get the corresponding token\n",
    "decoded_prediction = tokenizer.decode([predictions])\n",
    "\n",
    "print(\"Most probable token decoded:\", decoded_prediction)\n"
   ]
  },
  {
   "cell_type": "code",
   "execution_count": 56,
   "metadata": {},
   "outputs": [
    {
     "data": {
      "text/plain": [
       "array([  198, 50256])"
      ]
     },
     "execution_count": 56,
     "metadata": {},
     "output_type": "execute_result"
    }
   ],
   "source": [
    "top_indices = np.argsort(logits[0])[-2:][::-1]\n",
    "top_indices"
   ]
  },
  {
   "cell_type": "code",
   "execution_count": 34,
   "metadata": {},
   "outputs": [
    {
     "name": "stdout",
     "output_type": "stream",
     "text": [
      "Top 10 tokens: ['Ċ', 'A', '<|endoftext|>', 'Q', 'Answer', '1', 'Ex', 'C', 'D', '<']\n",
      "Decoded tokens individually:\n",
      "\n",
      "\n",
      "A\n",
      "<|endoftext|>\n",
      "Q\n",
      "Answer\n",
      "1\n",
      "Ex\n",
      "C\n",
      "D\n",
      "<\n"
     ]
    }
   ],
   "source": [
    "# Assuming logits[0] is a 1D numpy array containing the logits for the first example in the batch\n",
    "top_indices = np.argsort(logits[0])[-10:][::-1]  # Get indices of the top 10 logits in descending order\n",
    "top_tokens = tokenizer.convert_ids_to_tokens(top_indices)\n",
    "decoded_tokens = [tokenizer.decode([idx]) for idx in top_indices]  # Decode each token ID individually\n",
    "\n",
    "print(\"Top 10 tokens:\", top_tokens)\n",
    "print(\"Decoded tokens individually:\")\n",
    "for token in decoded_tokens:\n",
    "    print(token)"
   ]
  },
  {
   "cell_type": "code",
   "execution_count": null,
   "metadata": {},
   "outputs": [],
   "source": []
  },
  {
   "cell_type": "code",
   "execution_count": 29,
   "metadata": {},
   "outputs": [
    {
     "name": "stdout",
     "output_type": "stream",
     "text": [
      "['Ġ3']\n",
      "['Ġ2']\n"
     ]
    }
   ],
   "source": [
    "for idx in targets:\n",
    "    print(tokenizer.convert_ids_to_tokens([idx]))\n",
    "\n"
   ]
  },
  {
   "cell_type": "code",
   "execution_count": 27,
   "metadata": {},
   "outputs": [
    {
     "data": {
      "text/plain": [
       "' Q The 3 Austin A1).: 1'"
      ]
     },
     "execution_count": 27,
     "metadata": {},
     "output_type": "execute_result"
    }
   ],
   "source": [
    "tokenizer.decode(sample[-10:])"
   ]
  },
  {
   "cell_type": "code",
   "execution_count": 24,
   "metadata": {},
   "outputs": [
    {
     "data": {
      "text/plain": [
       "' 1'"
      ]
     },
     "execution_count": 24,
     "metadata": {},
     "output_type": "execute_result"
    }
   ],
   "source": [
    "tokenizer.decode(predictions[-1])"
   ]
  }
 ],
 "metadata": {
  "kernelspec": {
   "display_name": "env",
   "language": "python",
   "name": "python3"
  },
  "language_info": {
   "codemirror_mode": {
    "name": "ipython",
    "version": 3
   },
   "file_extension": ".py",
   "mimetype": "text/x-python",
   "name": "python",
   "nbconvert_exporter": "python",
   "pygments_lexer": "ipython3",
   "version": "3.11.8"
  }
 },
 "nbformat": 4,
 "nbformat_minor": 2
}
