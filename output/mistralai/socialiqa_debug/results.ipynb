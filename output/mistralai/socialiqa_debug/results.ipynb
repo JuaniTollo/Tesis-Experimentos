{
 "cells": [
  {
   "cell_type": "code",
   "execution_count": 9,
   "metadata": {},
   "outputs": [],
   "source": [
    "import pandas as pd\n",
    "import numpy as np"
   ]
  },
  {
   "cell_type": "code",
   "execution_count": 10,
   "metadata": {},
   "outputs": [],
   "source": [
    "from transformers import AutoTokenizer\n",
    "\n",
    "tokenizer = AutoTokenizer.from_pretrained(\"tokenizer\")"
   ]
  },
  {
   "cell_type": "code",
   "execution_count": 11,
   "metadata": {},
   "outputs": [
    {
     "data": {
      "text/plain": [
       "(2, 32000)"
      ]
     },
     "execution_count": 11,
     "metadata": {},
     "output_type": "execute_result"
    }
   ],
   "source": [
    "logits = np.load(\"test_logits_global.npy\")\n",
    "logits.shape"
   ]
  },
  {
   "cell_type": "code",
   "execution_count": 12,
   "metadata": {},
   "outputs": [],
   "source": [
    "targets = np.load(\"test_targets_global.npy\")\n"
   ]
  },
  {
   "cell_type": "code",
   "execution_count": 13,
   "metadata": {},
   "outputs": [],
   "source": [
    "targets = np.load(\"test_targets_global.npy\")\n"
   ]
  },
  {
   "cell_type": "code",
   "execution_count": 14,
   "metadata": {},
   "outputs": [
    {
     "name": "stdout",
     "output_type": "stream",
     "text": [
      "(2, 32000)\n"
     ]
    }
   ],
   "source": [
    "print(logits.shape)\n"
   ]
  },
  {
   "cell_type": "code",
   "execution_count": 15,
   "metadata": {},
   "outputs": [
    {
     "data": {
      "text/plain": [
       "28750"
      ]
     },
     "execution_count": 15,
     "metadata": {},
     "output_type": "execute_result"
    }
   ],
   "source": [
    "\n",
    "# Calcular las predicciones a partir de las logits tomando el índice de la máxima logit\n",
    "predictions = np.argmax(logits[0])\n",
    "predictions\n"
   ]
  },
  {
   "cell_type": "code",
   "execution_count": 16,
   "metadata": {},
   "outputs": [
    {
     "name": "stdout",
     "output_type": "stream",
     "text": [
      "Most probable token decoded: 2\n"
     ]
    },
    {
     "data": {
      "text/plain": [
       "'2'"
      ]
     },
     "execution_count": 16,
     "metadata": {},
     "output_type": "execute_result"
    }
   ],
   "source": [
    "# Calcular las predicciones a partir de las logits tomando el índice de la máxima logit\n",
    "predictions = np.argmax(logits[0])  # should be a scalar\n",
    "\n",
    "# Convert scalar prediction to list for decoding\n",
    "decoded_prediction = tokenizer.decode([predictions])\n",
    "\n",
    "print(\"Most probable token decoded:\", decoded_prediction)\n",
    "decoded_prediction"
   ]
  },
  {
   "cell_type": "code",
   "execution_count": null,
   "metadata": {},
   "outputs": [],
   "source": []
  },
  {
   "cell_type": "code",
   "execution_count": 10,
   "metadata": {},
   "outputs": [
    {
     "data": {
      "text/plain": [
       "array([ 13, 318])"
      ]
     },
     "execution_count": 10,
     "metadata": {},
     "output_type": "execute_result"
    }
   ],
   "source": [
    "top_indices = np.argsort(logits[0])[-2:][::-1]\n",
    "top_indices"
   ]
  },
  {
   "cell_type": "code",
   "execution_count": 11,
   "metadata": {},
   "outputs": [
    {
     "name": "stdout",
     "output_type": "stream",
     "text": [
      "Top 10 tokens: ['<0x0A>', '▁S', '▁', '▁<', '▁The', '1', '▁What', '▁A', '.', '▁When']\n",
      "Decoded tokens individually:\n",
      "\n",
      "\n",
      "S\n",
      "\n",
      "<\n",
      "The\n",
      "1\n",
      "What\n",
      "A\n",
      ".\n",
      "When\n"
     ]
    }
   ],
   "source": [
    "# Assuming logits[0] is a 1D numpy array containing the logits for the first example in the batch\n",
    "top_indices = np.argsort(logits[0])[-10:][::-1]  # Get indices of the top 10 logits in descending order\n",
    "top_tokens = tokenizer.convert_ids_to_tokens(top_indices)\n",
    "decoded_tokens = [tokenizer.decode([idx]) for idx in top_indices]  # Decode each token ID individually\n",
    "\n",
    "print(\"Top 10 tokens:\", top_tokens)\n",
    "print(\"Decoded tokens individually:\")\n",
    "for token in decoded_tokens:\n",
    "    print(token)"
   ]
  },
  {
   "cell_type": "code",
   "execution_count": 29,
   "metadata": {},
   "outputs": [
    {
     "name": "stdout",
     "output_type": "stream",
     "text": [
      "['Ġ3']\n",
      "['Ġ2']\n"
     ]
    }
   ],
   "source": [
    "for idx in targets:\n",
    "    print(tokenizer.convert_ids_to_tokens([idx]))\n",
    "\n"
   ]
  },
  {
   "cell_type": "code",
   "execution_count": 27,
   "metadata": {},
   "outputs": [
    {
     "data": {
      "text/plain": [
       "' Q The 3 Austin A1).: 1'"
      ]
     },
     "execution_count": 27,
     "metadata": {},
     "output_type": "execute_result"
    }
   ],
   "source": [
    "tokenizer.decode(sample[-10:])"
   ]
  },
  {
   "cell_type": "code",
   "execution_count": 24,
   "metadata": {},
   "outputs": [
    {
     "data": {
      "text/plain": [
       "' 1'"
      ]
     },
     "execution_count": 24,
     "metadata": {},
     "output_type": "execute_result"
    }
   ],
   "source": [
    "tokenizer.decode(predictions[-1])"
   ]
  }
 ],
 "metadata": {
  "kernelspec": {
   "display_name": "env",
   "language": "python",
   "name": "python3"
  },
  "language_info": {
   "codemirror_mode": {
    "name": "ipython",
    "version": 3
   },
   "file_extension": ".py",
   "mimetype": "text/x-python",
   "name": "python",
   "nbconvert_exporter": "python",
   "pygments_lexer": "ipython3",
   "version": "3.11.8"
  }
 },
 "nbformat": 4,
 "nbformat_minor": 2
}
